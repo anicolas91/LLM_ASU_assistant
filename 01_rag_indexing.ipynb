{
 "cells": [
  {
   "cell_type": "code",
   "execution_count": 42,
   "metadata": {},
   "outputs": [
    {
     "name": "stdout",
     "output_type": "stream",
     "text": [
      "--2024-10-13 14:48:53--  https://raw.githubusercontent.com/alexeygrigorev/minsearch/main/minsearch.py\n",
      "Resolving raw.githubusercontent.com (raw.githubusercontent.com)... 185.199.108.133, 185.199.110.133, 185.199.109.133, ...\n",
      "Connecting to raw.githubusercontent.com (raw.githubusercontent.com)|185.199.108.133|:443... connected.\n",
      "HTTP request sent, awaiting response... 200 OK\n",
      "Length: 3832 (3.7K) [text/plain]\n",
      "Saving to: ‘minsearch.py.2’\n",
      "\n",
      "minsearch.py.2      100%[===================>]   3.74K  --.-KB/s    in 0s      \n",
      "\n",
      "2024-10-13 14:48:53 (31.2 MB/s) - ‘minsearch.py.2’ saved [3832/3832]\n",
      "\n"
     ]
    }
   ],
   "source": [
    "# obtain homemade search engine\n",
    "!wget https://raw.githubusercontent.com/alexeygrigorev/minsearch/main/minsearch.py"
   ]
  },
  {
   "cell_type": "code",
   "execution_count": 43,
   "metadata": {},
   "outputs": [],
   "source": [
    "# import libraries\n",
    "import minsearch\n",
    "import json\n",
    "import os\n",
    "from dotenv import load_dotenv\n",
    "from openai import OpenAI"
   ]
  },
  {
   "cell_type": "code",
   "execution_count": 44,
   "metadata": {},
   "outputs": [],
   "source": [
    "# load the cleaned up json file\n",
    "with open('cleaned_Data.json', 'rt') as f_in:\n",
    "    docs_raw = json.load(f_in)"
   ]
  },
  {
   "cell_type": "code",
   "execution_count": 45,
   "metadata": {},
   "outputs": [],
   "source": [
    "# add the actual course (only one is ASU online) to the question-level info\n",
    "documents = []\n",
    "\n",
    "for doc in docs_raw['documents']:\n",
    "    doc['course'] = docs_raw['course']\n",
    "    documents.append(doc)"
   ]
  },
  {
   "cell_type": "code",
   "execution_count": 46,
   "metadata": {},
   "outputs": [
    {
     "data": {
      "text/plain": [
       "{'text': 'Textbook costs are not included in tuition.',\n",
       " 'section': 'Common questions about ASU Online',\n",
       " 'question': 'Are textbook costs included in tuition?',\n",
       " 'course': 'ASU Online'}"
      ]
     },
     "execution_count": 46,
     "metadata": {},
     "output_type": "execute_result"
    }
   ],
   "source": [
    "documents[10]"
   ]
  },
  {
   "cell_type": "code",
   "execution_count": 47,
   "metadata": {},
   "outputs": [],
   "source": [
    "# setup data indexing using minsearch\n",
    "index = minsearch.Index(\n",
    "    text_fields=[\"question\", \"text\", \"section\"],\n",
    "    keyword_fields=[\"course\"]\n",
    ")"
   ]
  },
  {
   "cell_type": "code",
   "execution_count": 48,
   "metadata": {},
   "outputs": [
    {
     "data": {
      "text/plain": [
       "<minsearch.Index at 0x15a8d6c30>"
      ]
     },
     "execution_count": 48,
     "metadata": {},
     "output_type": "execute_result"
    }
   ],
   "source": [
    "#actually index the data\n",
    "index.fit(documents)"
   ]
  },
  {
   "cell_type": "code",
   "execution_count": 49,
   "metadata": {},
   "outputs": [],
   "source": [
    "# setup API key\n",
    "load_dotenv('.envrc') \n",
    "openai_api_key = os.getenv('OPENAI_API_KEY')"
   ]
  },
  {
   "cell_type": "code",
   "execution_count": 50,
   "metadata": {},
   "outputs": [],
   "source": [
    "# start an openAI client\n",
    "client = OpenAI()"
   ]
  },
  {
   "cell_type": "code",
   "execution_count": 51,
   "metadata": {},
   "outputs": [],
   "source": [
    "# set up RAG definitions\n",
    "def search(query):\n",
    "    '''\n",
    "    This function retrieves the top 5 results from an indexed search enging.\n",
    "    We are using a homemade engine called 'minsearch' which has been\n",
    "    developed by alexey grigorev.\n",
    "    '''\n",
    "    boost = {'question': 3.0, 'section': 0.5} #weights\n",
    "\n",
    "    results = index.search(\n",
    "        query = query,\n",
    "        filter_dict={'course':'ASU Online'}, #this is a bit moo, but done for continuity\n",
    "        boost_dict=boost,\n",
    "        num_results=10\n",
    "        )\n",
    "    \n",
    "    return results\n",
    "\n",
    "def build_prompt(query,search_results):\n",
    "    '''  \n",
    "    This function creates an LLM friendly prompt using the results from a search engine\n",
    "    as background information input.\n",
    "    '''\n",
    "    prompt_template = \"\"\" \n",
    "    You are a course teaching assistant. Please answer the QUESTION based on the CONTEXT from the FAQ database.\n",
    "    Use only the facts from the CONTEXT when answering the QUESTION.\n",
    "\n",
    "    QUESTION: {question}\n",
    "\n",
    "    CONTEXT: {context}\n",
    "\n",
    "    \"\"\".strip()\n",
    "\n",
    "    context= \"\"\n",
    "\n",
    "    # concatenate search results as one text string\n",
    "    for doc in search_results:\n",
    "        context = context + f'section: {doc['section']} \\nquestion: {doc['question']} \\nanswer: {doc['text']}\\n\\n'\n",
    "\n",
    "    # fill out the prompt template\n",
    "    prompt = prompt_template.format(question=query, context=context).strip()\n",
    "\n",
    "    return prompt\n",
    "\n",
    "def llm(prompt):\n",
    "    '''  \n",
    "    This function contacts sets up the LLM model and runs the formatted prompt\n",
    "    '''\n",
    "    response = client.chat.completions.create(\n",
    "        model='gpt-4o-mini',\n",
    "        messages=[{\"role\": \"user\", \"content\": prompt}]\n",
    "    )\n",
    "    \n",
    "    return response.choices[0].message.content\n",
    "    \n"
   ]
  },
  {
   "cell_type": "code",
   "execution_count": 52,
   "metadata": {},
   "outputs": [],
   "source": [
    "# set up the RAG using the 3 steps above\n",
    "def rag(query):\n",
    "    ''' \n",
    "    This function generates a Retrieval-Augmented generation model architecture.\n",
    "    It combines search engine retrieval results with LLM to give a user-friendly answer.\n",
    "    '''\n",
    "    search_results = search(query)\n",
    "    prompt = build_prompt(query, search_results)\n",
    "    answer = llm(prompt)\n",
    "    return answer"
   ]
  },
  {
   "cell_type": "code",
   "execution_count": 59,
   "metadata": {},
   "outputs": [],
   "source": [
    "# try out a query\n",
    "# test a search\n",
    "query = 'what do I need to enroll to online graduate classes?'\n",
    "answer = rag(query)"
   ]
  },
  {
   "cell_type": "code",
   "execution_count": 60,
   "metadata": {},
   "outputs": [
    {
     "name": "stdout",
     "output_type": "stream",
     "text": [
      "To enroll in online graduate classes at ASU, you need to apply for a graduate program, which you can do while completing your undergraduate degree. You will need to provide your junior-senior GPA (an estimate is acceptable if you’re still finishing your degree) and submit unofficial transcripts as part of your application. Remember, if accepted, you’ll need to send official transcripts later. You should also be aware of the application deadlines, which vary by program, and typically occur at least a month or two before your desired start date. Once admitted, you can log in to My ASU and use your ASURITE ID and password to search for and enroll in classes.\n"
     ]
    }
   ],
   "source": [
    "print(answer)"
   ]
  }
 ],
 "metadata": {
  "kernelspec": {
   "display_name": ".venv",
   "language": "python",
   "name": "python3"
  },
  "language_info": {
   "codemirror_mode": {
    "name": "ipython",
    "version": 3
   },
   "file_extension": ".py",
   "mimetype": "text/x-python",
   "name": "python",
   "nbconvert_exporter": "python",
   "pygments_lexer": "ipython3",
   "version": "3.12.3"
  }
 },
 "nbformat": 4,
 "nbformat_minor": 2
}
