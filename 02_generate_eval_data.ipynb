{
 "cells": [
  {
   "cell_type": "markdown",
   "metadata": {},
   "source": [
    "## Generating Evaluation data\n",
    "We use the original documents as the ground truth and ask an LLM to generate a couple questions, pretending that it is a student, so that we can have a good amount of evaluation data."
   ]
  },
  {
   "cell_type": "code",
   "execution_count": 76,
   "metadata": {},
   "outputs": [],
   "source": [
    "# import libraries\n",
    "import json\n",
    "import os\n",
    "from dotenv import load_dotenv\n",
    "from openai import OpenAI\n",
    "from tqdm.auto import tqdm\n",
    "import pickle\n",
    "import pandas as pd"
   ]
  },
  {
   "cell_type": "code",
   "execution_count": 44,
   "metadata": {},
   "outputs": [],
   "source": [
    "# setup API key\n",
    "load_dotenv('.envrc') \n",
    "openai_api_key = os.getenv('OPENAI_API_KEY')\n",
    "\n",
    "# start an openAI client\n",
    "client = OpenAI()"
   ]
  },
  {
   "cell_type": "code",
   "execution_count": 45,
   "metadata": {},
   "outputs": [],
   "source": [
    "# load the cleaned up json file\n",
    "with open('cleaned_Data.json', 'rt') as f_in:\n",
    "    docs_raw = json.load(f_in)\n",
    "\n",
    "# add the actual course (only one is ASU online) to the question-level info\n",
    "documents = []\n",
    "\n",
    "for id, doc in enumerate(docs_raw['documents']):\n",
    "    doc['id'] = id #set up a unique id\n",
    "    doc['course'] = docs_raw['course']\n",
    "    documents.append(doc)"
   ]
  },
  {
   "cell_type": "code",
   "execution_count": 46,
   "metadata": {},
   "outputs": [
    {
     "data": {
      "text/plain": [
       "{'text': 'ASU Online credits are no different than credits earned at our campuses and transcripts do not distinguish between online or on-campus courses. When transferring credits, it is always up to the receiving institution to determine transfer eligibility and how transfer credits may apply to a specific program of interest.',\n",
       " 'section': 'ASU email basics',\n",
       " 'question': 'Are all ASU Online credits transferable to other four-year universities?',\n",
       " 'id': 0,\n",
       " 'course': 'ASU Online'}"
      ]
     },
     "execution_count": 46,
     "metadata": {},
     "output_type": "execute_result"
    }
   ],
   "source": [
    "documents[0]"
   ]
  },
  {
   "cell_type": "code",
   "execution_count": 47,
   "metadata": {},
   "outputs": [],
   "source": [
    "prompt_template = \"\"\"\n",
    "You emulate a prospective student interested in ASU online.\n",
    "Formulate 5 questions this student might ask based on a FAQ record. The record\n",
    "should contain the answer to the questions, and the questions should be complete and not too short.\n",
    "If possible, use as few words as possible from the record. \n",
    "\n",
    "The record:\n",
    "\n",
    "section: {section}\n",
    "question: {question}\n",
    "answer: {text}\n",
    "\n",
    "Provide the output in parsable JSON without using code blocks:\n",
    "\n",
    "[\"question1\",\"question2\",\"question3\",\"question4\",\"question5\"]\n",
    "\"\"\".strip()"
   ]
  },
  {
   "cell_type": "code",
   "execution_count": 48,
   "metadata": {},
   "outputs": [
    {
     "name": "stdout",
     "output_type": "stream",
     "text": [
      "You emulate a prospective student interested in ASU online.\n",
      "Formulate 5 questions this student might ask based on a FAQ record. The record\n",
      "should contain the answer to the questions, and the questions should be complete and not too short.\n",
      "If possible, use as few words as possible from the record. \n",
      "\n",
      "The record:\n",
      "\n",
      "section: ASU email basics\n",
      "question: Are all ASU Online credits transferable to other four-year universities?\n",
      "answer: ASU Online credits are no different than credits earned at our campuses and transcripts do not distinguish between online or on-campus courses. When transferring credits, it is always up to the receiving institution to determine transfer eligibility and how transfer credits may apply to a specific program of interest.\n",
      "\n",
      "Provide the output in parsable JSON without using code blocks:\n",
      "\n",
      "[\"question1\",\"question2\",\"question3\",\"question4\",\"question5\"]\n"
     ]
    }
   ],
   "source": [
    "# try an example prompt\n",
    "prompt = prompt_template.format(**documents[0])\n",
    "print(prompt)"
   ]
  },
  {
   "cell_type": "code",
   "execution_count": null,
   "metadata": {},
   "outputs": [],
   "source": []
  },
  {
   "cell_type": "code",
   "execution_count": 49,
   "metadata": {},
   "outputs": [],
   "source": [
    "def generate_questions(doc):\n",
    "    ''' \n",
    "    This function generates 5 questions given the prompt format set up above and the entire documents\n",
    "    '''\n",
    "    prompt = prompt_template.format(**doc)\n",
    "\n",
    "    response = client.chat.completions.create(\n",
    "        model='gpt-4o-mini',\n",
    "        messages=[{\"role\": \"user\", \"content\": prompt}]\n",
    "    )\n",
    "\n",
    "    json_response = response.choices[0].message.content\n",
    "    return json_response"
   ]
  },
  {
   "cell_type": "code",
   "execution_count": 50,
   "metadata": {},
   "outputs": [],
   "source": [
    "results = {}"
   ]
  },
  {
   "cell_type": "code",
   "execution_count": 51,
   "metadata": {},
   "outputs": [
    {
     "data": {
      "application/vnd.jupyter.widget-view+json": {
       "model_id": "4948868ed03b47eb8363e934798e7d0f",
       "version_major": 2,
       "version_minor": 0
      },
      "text/plain": [
       "  0%|          | 0/53 [00:00<?, ?it/s]"
      ]
     },
     "metadata": {},
     "output_type": "display_data"
    }
   ],
   "source": [
    "for doc in tqdm(documents): \n",
    "    doc_id = doc['id']\n",
    "    if doc_id in results:\n",
    "        continue\n",
    "\n",
    "    questions = generate_questions(doc)\n",
    "    results[doc_id] = questions"
   ]
  },
  {
   "cell_type": "code",
   "execution_count": 69,
   "metadata": {},
   "outputs": [
    {
     "data": {
      "text/plain": [
       "'[\"Are the credits earned through ASU Online the same as those from on-campus classes?\",\"How do other four-year universities view ASU Online credits when considering transfers?\",\"Do transcripts show whether courses were taken online or on-campus at ASU?\",\"Who decides if ASU Online credits can be transferred to a different institution?\",\"Can I find out how my ASU Online credits apply to a specific program when transferring?\"]'"
      ]
     },
     "execution_count": 69,
     "metadata": {},
     "output_type": "execute_result"
    }
   ],
   "source": [
    "results[0]"
   ]
  },
  {
   "cell_type": "code",
   "execution_count": 70,
   "metadata": {},
   "outputs": [],
   "source": [
    "# do some slight cleanup because ChatGPT did a bit dirty responses\n",
    "cleaned_parsed_results = {}\n",
    "\n",
    "for doc_id, result in results.items():\n",
    "    questions = ' '.join(result.split())\n",
    "    cleaned_parsed_results[doc_id] = json.loads(questions)"
   ]
  },
  {
   "cell_type": "code",
   "execution_count": 71,
   "metadata": {},
   "outputs": [
    {
     "data": {
      "text/plain": [
       "{0: ['Are the credits earned through ASU Online the same as those from on-campus classes?',\n",
       "  'How do other four-year universities view ASU Online credits when considering transfers?',\n",
       "  'Do transcripts show whether courses were taken online or on-campus at ASU?',\n",
       "  'Who decides if ASU Online credits can be transferred to a different institution?',\n",
       "  'Can I find out how my ASU Online credits apply to a specific program when transferring?'],\n",
       " 1: ['Is it possible to complete my program on a part-time basis?',\n",
       "  'What is the minimum number of credit hours required each semester?',\n",
       "  'Are there any financial aid implications for enrolling part-time?',\n",
       "  'How can I find out more about maintaining my financial aid while studying part-time?',\n",
       "  'Who can I contact for assistance with my academic schedule and program duration?'],\n",
       " 2: ['What additional steps are involved in the ASU Online admission process besides submitting an application?',\n",
       "  'Is there a specific fee that needs to be paid for the application to be complete?',\n",
       "  \"What types of transcripts are required for students who haven't finished an associate degree?\",\n",
       "  'Where should I send my transcripts for ASU Online admission?',\n",
       "  'What is the address for the Admission Services at Arizona State University?'],\n",
       " 3: ['Is financial aid available for students enrolled in ASU Online courses?',\n",
       "  'How can I learn more about financial aid options at ASU Online?',\n",
       "  'Can I speak with a financial aid counselor regarding ASU Online classes?',\n",
       "  'What resources are available to understand financial aid for ASU Online?',\n",
       "  'Are there specific eligibility criteria for receiving financial aid at ASU Online?'],\n",
       " 4: ['Do ASU Online students have the opportunity to attend graduation ceremonies on campus?',\n",
       "  'Where can I find more information about university graduation for ASU Online students?',\n",
       "  'Are there any specific guidelines for participating in graduation ceremonies at ASU?',\n",
       "  'Can I celebrate my graduation in person if I complete my degree online?',\n",
       "  'What should I know about the University Ceremonies related to my graduation?'],\n",
       " 5: ['Is it possible to study at ASU Online if I live in a different state or country?',\n",
       "  'Do I have to attend any classes in person to complete my degree online?',\n",
       "  'Are there any specific programs at ASU Online that require in-person attendance?',\n",
       "  'If I need to complete an in-person requirement, can I do it at a local institution?',\n",
       "  'What should I consider regarding my program’s specific requirements when studying online?'],\n",
       " 6: ['How does the quality of online programs at ASU compare to on-campus ones?',\n",
       "  \"Will I be taught by the same faculty in ASU's online courses as in on-campus classes?\",\n",
       "  'Is the academic rigor of ASU Online courses equivalent to that of traditional classes?',\n",
       "  'Can I expect the same level of content quality in ASU Online as I would in-person?',\n",
       "  'What assurances do I have regarding the standards of online education at ASU?'],\n",
       " 7: ['What steps need to be followed to obtain a student ID card as an online student?',\n",
       "  'Is there a fee associated with ordering the Sun Card for online students?',\n",
       "  'How long does it take to receive the student ID card after applying?',\n",
       "  'Can online students submit their ID photo and identification verification digitally?',\n",
       "  'What is the process for completing the Sun Card Request form once my photo is approved?'],\n",
       " 8: ['Are online students eligible for research opportunities?',\n",
       "  'Can research be conducted remotely by online students?',\n",
       "  'What types of disciplines are available for online research participation?',\n",
       "  'Are there any in-person research options for online students?',\n",
       "  'Do online students in the Phoenix area have access to campus research?'],\n",
       " 9: [\"Is it possible to pursue more than one bachelor's degree at ASU Online simultaneously?\",\n",
       "  'What steps do I need to take to add a second or third major after applying?',\n",
       "  'Can graduate students also work on multiple degrees at the same time at ASU Online?',\n",
       "  'What is required to apply for concurrent graduate degrees at ASU?',\n",
       "  'How might pursuing multiple degrees affect my graduation timeline?'],\n",
       " 10: ['Does the tuition fee cover the cost of textbooks?',\n",
       "  'Are the expenses for textbooks part of the tuition cost?',\n",
       "  'Can I expect textbook fees to be included in my tuition?',\n",
       "  'Will I have to pay separately for textbooks beyond tuition?',\n",
       "  'Are textbooks provided within the tuition at ASU Online?'],\n",
       " 11: ['Is ASU Online recognized by any accrediting bodies?',\n",
       "  'What type of accreditation does ASU Online hold?',\n",
       "  'Why is regional accreditation important for my education?',\n",
       "  'Do ASU Online programs have any specialized accreditations?',\n",
       "  \"How does ASU's accreditation compare to other universities?\"],\n",
       " 12: [\"What is the process to apply for an online master's degree or PhD program at ASU?\",\n",
       "  'Are graduate students classified as transfer students when applying to ASU Online?',\n",
       "  'How many graduate-level credit hours can be accepted from another institution?',\n",
       "  'What are the grade requirements for previously earned credits to be considered for admission?',\n",
       "  'Is there a time limit on when preadmission credits must have been completed?'],\n",
       " 13: ['Will my diploma indicate that I earned my degree online or simply from Arizona State University?',\n",
       "  'What will my transcript show regarding my degree from ASU Online?',\n",
       "  'Is there a difference in how the diploma looks for online students versus on-campus students?',\n",
       "  'Does the faculty for ASU Online courses come from Arizona State University?',\n",
       "  'Is an online degree from ASU equivalent to a traditional degree from ASU?'],\n",
       " 14: ['What is the maximum number of credit hours I can take in a semester at ASU Online?',\n",
       "  'Can I enroll in different sessions simultaneously at ASU Online?',\n",
       "  'What is the limit on credit hours during summer sessions at ASU Online?',\n",
       "  'How many classes does 18 credit hours typically equate to at ASU Online?',\n",
       "  'Are there specific credit hour limits for engineering programs at ASU Online?'],\n",
       " 15: ['Can undergraduate students receive financial gift aid for online degrees at ASU?',\n",
       "  'What do I need to do to qualify for federal student aid at ASU?',\n",
       "  'Are grants available for online-degree-seeking students at ASU?',\n",
       "  'What financial aid options are available for graduate students at ASU?',\n",
       "  'Where can I find information about scholarships for grad students at ASU?'],\n",
       " 16: ['What type of computer is recommended for taking ASU Online courses?',\n",
       "  'Are there specific internet browsers I should use for online classes?',\n",
       "  'Can I use a mobile device to attend ASU Online courses?',\n",
       "  'What multimedia tools are included in ASU Online courses?',\n",
       "  'Is Linux supported in ASU Online courses?'],\n",
       " 17: ['Are there options to combine online and on-campus classes at ASU?',\n",
       "  'What must I do if I want to take courses on campus while studying online?',\n",
       "  'Can on-campus students enroll in online courses?',\n",
       "  'What are iCourses and who can take them?',\n",
       "  'Is there a fee associated with taking iCourses as an on-campus student?'],\n",
       " 18: ['Is it possible to switch between online and on-campus learning formats at ASU?',\n",
       "  'What are the criteria for transferring between online and campus programs?',\n",
       "  'Can you tell me if all degree programs allow switching learning modalities?',\n",
       "  'How does my financial situation affect my ability to change my program format?',\n",
       "  'Where can I find support for transitioning between online and on-campus studies?'],\n",
       " 19: ['After completing the admission process, when can I start registering for classes at ASU Online?',\n",
       "  'What do I need to do in order to check my admission status after applying to ASU Online?',\n",
       "  'How will I know if I have any holds on my record that prevent me from registering?',\n",
       "  'What should I do if I find holds on my record before I can register for classes?',\n",
       "  'Where can I find the exact date and time for my enrollment appointment once admitted to ASU Online?'],\n",
       " 20: ['What methods do instructors use to share materials and promote interaction in online classes?',\n",
       "  'How does the online classroom experience differ from traditional classrooms?',\n",
       "  'Are there any specific log-on times required for online courses?',\n",
       "  'What is the typical flexibility like for completing assignments in an online degree program?',\n",
       "  'Will any assignments or tests have limited availability during the semester?'],\n",
       " 21: ['What factors influence the cost of tuition for ASU Online programs?',\n",
       "  'Is there a way to estimate my tuition fees before financial aid?',\n",
       "  'How do scholarships and grants impact tuition expenses at ASU Online?',\n",
       "  'Where can I find the standard cost of attendance for ASU Online?',\n",
       "  'What percentage of students receive financial aid at ASU Online?'],\n",
       " 22: ['Can you explain what Earned Admission is?',\n",
       "  'How does the Earned Admission process work?',\n",
       "  'What criteria do I need to meet for Earned Admission?',\n",
       "  'Is there a specific number of credit hours required for Earned Admission?',\n",
       "  'What type of courses can I take for Earned Admission?'],\n",
       " 23: ['What types of scholarships does ASU offer for online students?',\n",
       "  'Where can I find more information about ASU scholarships?',\n",
       "  'Are there specific eligibility requirements for ASU scholarships?',\n",
       "  'Can I apply for scholarships if I am already enrolled at ASU?',\n",
       "  'How can I stay updated on new scholarship opportunities at ASU?'],\n",
       " 24: ['What is the procedure to access my ASU email account?',\n",
       "  'Is there a difference between my ASU Gmail account and a personal Gmail account?',\n",
       "  'How can I hide my ASU email information from the electronic directories?',\n",
       "  'What resources are available to help me with ASU Gmail?',\n",
       "  \"Where can I find my official ASU email address if I'm unsure?\"],\n",
       " 25: ['What are the admission requirements for first-year students at ASU Online?',\n",
       "  'Is it necessary to have a high school diploma to apply to ASU Online?',\n",
       "  'Can I get admitted to ASU Online with only a GED?',\n",
       "  'What should I review to understand ASU Online admission criteria?',\n",
       "  'Are there specific documents needed for ASU Online admission?'],\n",
       " 26: ['Is it possible to enroll in online courses without pursuing a degree at ASU?',\n",
       "  'What is the process for applying as a nondegree student at ASU?',\n",
       "  'Will the courses I take as a nondegree student be credited to an ASU transcript?',\n",
       "  'Can I take individual classes for personal interest at ASU?',\n",
       "  'Are the grades earned in nondegree courses reflected on my academic record at ASU?'],\n",
       " 27: ['What type of visa do I need if I am an international student applying for ASU Online?',\n",
       "  'Can international students in the U.S. apply for online programs?',\n",
       "  'What should I select for my visa type when applying from abroad?',\n",
       "  'Are student visas available for online students at ASU?',\n",
       "  'What visa type is recommended for those living outside the U.S. during application?'],\n",
       " 28: ['Can I use the New American University Scholarship for an online program?',\n",
       "  'Are there any scholarships available for online students?',\n",
       "  'What types of financial aid are available for ASU online?',\n",
       "  'Is there a difference in scholarships for campus and online students?',\n",
       "  'How do online students apply for scholarships at ASU?'],\n",
       " 29: [\"Is it possible to pursue a second bachelor's degree at ASU Online if I already hold one?\",\n",
       "  'What status will I have in the admission process if I apply with an existing degree?',\n",
       "  'Can I receive credit for some of my previous courses when enrolling at ASU Online?',\n",
       "  'Do I need to go through a different application process as a transfer student?',\n",
       "  \"Are there any specific requirements for enrolling in a second bachelor's degree program?\"],\n",
       " 30: ['Is there a specific time frame for applying to ASU Online?',\n",
       "  'Are there application deadlines for different terms at ASU Online?',\n",
       "  'How do I ensure I am using the correct application for ASU Online?',\n",
       "  'Can I submit my application to ASU Online whenever I want?',\n",
       "  'Where should I apply for ASU Online admissions?'],\n",
       " 31: ['Are online students allowed to live in dorms on campus?',\n",
       "  'What campus facilities can online students access?',\n",
       "  'Can online students participate in ASU clubs and organizations?',\n",
       "  'Do online students have to pay for athletic event tickets?',\n",
       "  'What kind of events can online students attend at ASU?'],\n",
       " 32: ['When can I expect to get my billing statement after registering for courses?',\n",
       "  'What online resources are available for managing my tuition payments?',\n",
       "  'Where can I find information about payment options at ASU?',\n",
       "  'Is there a specific platform where I can view my billing information?',\n",
       "  'How do I pay my tuition fees online at ASU?'],\n",
       " 33: ['Is there a standard application fee waiver available for prospective students?',\n",
       "  'Can I receive a reduced fee option for the application fee?',\n",
       "  'How are fee waivers determined for the application fee?',\n",
       "  'Who should I contact for details about application fee waivers?',\n",
       "  'Are application fee waivers available to everyone who applies?'],\n",
       " 34: ['What is the process for starting classes at ASU Online?',\n",
       "  'How long does it take to receive an admission decision after applying?',\n",
       "  'What documents are required for my ASU Online application?',\n",
       "  'How soon can I enroll in courses once admitted?',\n",
       "  'What factors influence the time it takes to process applications at ASU?'],\n",
       " 35: ['Do I need to submit a new application for ASU Online if I was accepted to an on-campus program and enrolled?',\n",
       "  'What if I was admitted to an on-campus program but never attended ASU?',\n",
       "  'Is it necessary to reapply for ASU Online if my previous application expired?',\n",
       "  \"What happens to my ASU application if I didn't complete it?\",\n",
       "  'Can I transition from an on-campus program to ASU Online without a new application?'],\n",
       " 36: ['What is the schedule for class offerings throughout the year?',\n",
       "  'How many times per year can I start classes at ASU Online?',\n",
       "  'Are there specific dates I should know for the academic calendar?',\n",
       "  'During which semesters are classes available for enrollment?',\n",
       "  'Can I find details about start dates for various programs?'],\n",
       " 37: [\"What options do I have if my GPA doesn't meet the requirements for my chosen major at ASU Online?\",\n",
       "  'Can I still get into ASU Online if I meet the general admission requirements but not the major-specific GPA?',\n",
       "  'What is the Earned Admission program and how does it work for students with a low GPA?',\n",
       "  \"How can I explore my options for admission if I don't meet the specific GPA for my degree?\",\n",
       "  'Is a cumulative GPA of 2.75 sufficient for admission into ASU Online through the Earned Admission program?'],\n",
       " 38: ['How can I find out the estimated costs before I apply to ASU online?',\n",
       "  'Is there a way to get in touch with a financial aid advisor prior to enrollment?',\n",
       "  'Can I estimate the tuition fees for my degree at ASU online?',\n",
       "  'What resources are available to understand financial aid options before applying?',\n",
       "  'Is it possible to calculate my tuition expenses before I decide to enroll?'],\n",
       " 39: ['What is the maximum number of transfer credits allowed for undergraduate degrees at ASU?',\n",
       "  'Are there any exceptions to the transfer credit policy for special programs at ASU?',\n",
       "  'How many graduate-level credit hours can be accepted for graduate programs at ASU?',\n",
       "  'Who can I contact to get a pre-evaluation of my transfer credits for ASU Online?',\n",
       "  'Does the transferability of specific courses depend on the program I am enrolled in at ASU?'],\n",
       " 40: ['What kind of support does ASU Online provide for students with disabilities?',\n",
       "  'How can online students access disability support services at ASU?',\n",
       "  'Is there a process for getting accommodations for physical disabilities at ASU Online?',\n",
       "  'What types of training does ASU offer to promote awareness of accessibility?',\n",
       "  'Are there transportation options available for students with disabilities at ASU?'],\n",
       " 41: ['Are GMAT waivers available for ASU Online graduate programs?',\n",
       "  'Do any ASU Online graduate programs not require the GRE?',\n",
       "  'How are GMAT waiver decisions made at ASU Online?',\n",
       "  'Who should I contact for information about GMAT waivers at ASU Online?',\n",
       "  'Can my success coach assist me with the GMAT waiver process?'],\n",
       " 42: ['Do the credits I earn from ASU have an expiration date?',\n",
       "  'What happens to transfer credits over time?',\n",
       "  'Are there specific courses that may require retaking after some years?',\n",
       "  'Will I need to retake courses in economics or computers?',\n",
       "  'How does the relevance of older courses affect my degree?'],\n",
       " 43: [\"What options do I have if I don't meet the undergraduate admission requirements for ASU?\",\n",
       "  \"Is there a specific process I should follow if I don't qualify for admission to a graduate program?\",\n",
       "  'How can I find out more about improving my chances of getting admitted after my initial application?',\n",
       "  \"Who should I contact to discuss my admission status if I'm not accepted into my desired program?\",\n",
       "  'Can an enrollment advisor assist me in understanding the Earned Admission track for undergraduate applicants?'],\n",
       " 44: ['What is the reputation of ASU Online in terms of rankings for its programs?',\n",
       "  'How does ASU Online compare to other institutions in terms of innovation?',\n",
       "  'Which programs are recognized in the rankings for ASU Online?',\n",
       "  'Who teaches the online courses at ASU Online?',\n",
       "  'Where can I find reviews and accolades regarding ASU Online?'],\n",
       " 45: ['What steps do I need to follow to find and enroll in my classes at ASU Online?',\n",
       "  'Where do I enter my ASURITE ID and password for accessing courses?',\n",
       "  'Can you guide me on how to locate the Class Search feature after logging in?',\n",
       "  'What should I do after selecting my class from the Class Search?',\n",
       "  'Will I be able to add a class immediately after finding it in the system?'],\n",
       " 46: [\"Can I apply for a graduate program at ASU Online if I haven't completed my undergraduate degree yet?\",\n",
       "  \"What GPA information do I need to provide on my graduate application while finishing my bachelor's?\",\n",
       "  'Are there any specific deadlines for applying to graduate programs at ASU Online?',\n",
       "  'What type of transcripts do I need to submit with my graduate application?',\n",
       "  'Is it possible to start a graduate program immediately after finishing my undergraduate degree?'],\n",
       " 47: ['Will I have to attend live sessions for my online classes at ASU?',\n",
       "  'Are there specific times I need to log in for online courses?',\n",
       "  'Do certain courses include synchronous components or group work?',\n",
       "  'How can I find out the scheduling requirements for my classes?',\n",
       "  'Is it essential to check the syllabus for each class I enroll in?'],\n",
       " 48: ['Can I earn a degree using credits from nondegree courses?',\n",
       "  'How many credit hours can I apply as a nondegree undergraduate student?',\n",
       "  'Is there a limit on credits for graduate nondegree students?',\n",
       "  'What happens to my nondegree course credits when I apply for a degree?',\n",
       "  'Are there different credit allowances for undergraduates and graduates?'],\n",
       " 49: ['What factors determine the time it takes to complete an online degree at ASU?',\n",
       "  \"Is it possible to finish my bachelor's degree in less than four years online?\",\n",
       "  'How many credit hours do I need to take each semester for a full-time course load?',\n",
       "  'Can I consult with an academic advisor about my degree timeline at ASU?',\n",
       "  \"What is the typical duration for earning a master's degree online from ASU?\"],\n",
       " 50: ['What criteria do students need to meet for transferring to ASU?',\n",
       "  'Is it common for students to transfer credits to ASU?',\n",
       "  'Where can I find more details on transfer admission requirements?',\n",
       "  'Are there specific program requirements for transfer students at ASU?',\n",
       "  'How easy is it for transfer students to have their credits recognized?'],\n",
       " 51: ['What resources are available to help me determine which credits I can transfer to ASU Online?',\n",
       "  'How can I find out how my credits will fit into a degree program at ASU?',\n",
       "  'Is there someone who can evaluate my previous coursework for transferability to ASU?',\n",
       "  'Can I get assistance from an enrollment coach regarding my transferable credits?',\n",
       "  'Who should I contact for a pre-evaluation of my academic credits for ASU Online?'],\n",
       " 52: ['What resources does ASU Online provide for academic advising?',\n",
       "  'Is there a specific process to locate my advisor?',\n",
       "  'How can I contact my advisor once I find them?',\n",
       "  'What support services are available for online students?',\n",
       "  'Can I meet with my advisor virtually?']}"
      ]
     },
     "execution_count": 71,
     "metadata": {},
     "output_type": "execute_result"
    }
   ],
   "source": [
    "cleaned_parsed_results"
   ]
  },
  {
   "cell_type": "code",
   "execution_count": 72,
   "metadata": {},
   "outputs": [],
   "source": [
    "# convert to final results\n",
    "doc_index = {d['id']: d for d in documents}\n",
    "\n",
    "final_results = []\n",
    "\n",
    "for doc_id, questions in cleaned_parsed_results.items():\n",
    "    course = doc_index[doc_id]['course']\n",
    "    for q in questions:\n",
    "        final_results.append((doc_id,course,q))\n"
   ]
  },
  {
   "cell_type": "code",
   "execution_count": 75,
   "metadata": {},
   "outputs": [
    {
     "data": {
      "text/plain": [
       "(4,\n",
       " 'ASU Online',\n",
       " 'Are there any specific guidelines for participating in graduation ceremonies at ASU?')"
      ]
     },
     "execution_count": 75,
     "metadata": {},
     "output_type": "execute_result"
    }
   ],
   "source": [
    "final_results[22]"
   ]
  },
  {
   "cell_type": "code",
   "execution_count": 77,
   "metadata": {},
   "outputs": [],
   "source": [
    "# convert to pandas df\n",
    "df = pd.DataFrame(final_results, columns=['id', 'course', 'question'])\n"
   ]
  },
  {
   "cell_type": "code",
   "execution_count": 78,
   "metadata": {},
   "outputs": [
    {
     "data": {
      "text/html": [
       "<div>\n",
       "<style scoped>\n",
       "    .dataframe tbody tr th:only-of-type {\n",
       "        vertical-align: middle;\n",
       "    }\n",
       "\n",
       "    .dataframe tbody tr th {\n",
       "        vertical-align: top;\n",
       "    }\n",
       "\n",
       "    .dataframe thead th {\n",
       "        text-align: right;\n",
       "    }\n",
       "</style>\n",
       "<table border=\"1\" class=\"dataframe\">\n",
       "  <thead>\n",
       "    <tr style=\"text-align: right;\">\n",
       "      <th></th>\n",
       "      <th>id</th>\n",
       "      <th>course</th>\n",
       "      <th>question</th>\n",
       "    </tr>\n",
       "  </thead>\n",
       "  <tbody>\n",
       "    <tr>\n",
       "      <th>0</th>\n",
       "      <td>0</td>\n",
       "      <td>ASU Online</td>\n",
       "      <td>Are the credits earned through ASU Online the ...</td>\n",
       "    </tr>\n",
       "    <tr>\n",
       "      <th>1</th>\n",
       "      <td>0</td>\n",
       "      <td>ASU Online</td>\n",
       "      <td>How do other four-year universities view ASU O...</td>\n",
       "    </tr>\n",
       "    <tr>\n",
       "      <th>2</th>\n",
       "      <td>0</td>\n",
       "      <td>ASU Online</td>\n",
       "      <td>Do transcripts show whether courses were taken...</td>\n",
       "    </tr>\n",
       "    <tr>\n",
       "      <th>3</th>\n",
       "      <td>0</td>\n",
       "      <td>ASU Online</td>\n",
       "      <td>Who decides if ASU Online credits can be trans...</td>\n",
       "    </tr>\n",
       "    <tr>\n",
       "      <th>4</th>\n",
       "      <td>0</td>\n",
       "      <td>ASU Online</td>\n",
       "      <td>Can I find out how my ASU Online credits apply...</td>\n",
       "    </tr>\n",
       "    <tr>\n",
       "      <th>...</th>\n",
       "      <td>...</td>\n",
       "      <td>...</td>\n",
       "      <td>...</td>\n",
       "    </tr>\n",
       "    <tr>\n",
       "      <th>260</th>\n",
       "      <td>52</td>\n",
       "      <td>ASU Online</td>\n",
       "      <td>What resources does ASU Online provide for aca...</td>\n",
       "    </tr>\n",
       "    <tr>\n",
       "      <th>261</th>\n",
       "      <td>52</td>\n",
       "      <td>ASU Online</td>\n",
       "      <td>Is there a specific process to locate my advisor?</td>\n",
       "    </tr>\n",
       "    <tr>\n",
       "      <th>262</th>\n",
       "      <td>52</td>\n",
       "      <td>ASU Online</td>\n",
       "      <td>How can I contact my advisor once I find them?</td>\n",
       "    </tr>\n",
       "    <tr>\n",
       "      <th>263</th>\n",
       "      <td>52</td>\n",
       "      <td>ASU Online</td>\n",
       "      <td>What support services are available for online...</td>\n",
       "    </tr>\n",
       "    <tr>\n",
       "      <th>264</th>\n",
       "      <td>52</td>\n",
       "      <td>ASU Online</td>\n",
       "      <td>Can I meet with my advisor virtually?</td>\n",
       "    </tr>\n",
       "  </tbody>\n",
       "</table>\n",
       "<p>265 rows × 3 columns</p>\n",
       "</div>"
      ],
      "text/plain": [
       "     id      course                                           question\n",
       "0     0  ASU Online  Are the credits earned through ASU Online the ...\n",
       "1     0  ASU Online  How do other four-year universities view ASU O...\n",
       "2     0  ASU Online  Do transcripts show whether courses were taken...\n",
       "3     0  ASU Online  Who decides if ASU Online credits can be trans...\n",
       "4     0  ASU Online  Can I find out how my ASU Online credits apply...\n",
       "..   ..         ...                                                ...\n",
       "260  52  ASU Online  What resources does ASU Online provide for aca...\n",
       "261  52  ASU Online  Is there a specific process to locate my advisor?\n",
       "262  52  ASU Online     How can I contact my advisor once I find them?\n",
       "263  52  ASU Online  What support services are available for online...\n",
       "264  52  ASU Online              Can I meet with my advisor virtually?\n",
       "\n",
       "[265 rows x 3 columns]"
      ]
     },
     "execution_count": 78,
     "metadata": {},
     "output_type": "execute_result"
    }
   ],
   "source": [
    "df"
   ]
  },
  {
   "cell_type": "code",
   "execution_count": 79,
   "metadata": {},
   "outputs": [],
   "source": [
    "# save the df as ground truth csv\n",
    "df.to_csv('ground_truth_data.csv', index=False)"
   ]
  },
  {
   "cell_type": "code",
   "execution_count": 80,
   "metadata": {},
   "outputs": [
    {
     "name": "stdout",
     "output_type": "stream",
     "text": [
      "id,course,question\n",
      "0,ASU Online,Are the credits earned through ASU Online the same as those from on-campus classes?\n",
      "0,ASU Online,How do other four-year universities view ASU Online credits when considering transfers?\n",
      "0,ASU Online,Do transcripts show whether courses were taken online or on-campus at ASU?\n",
      "0,ASU Online,Who decides if ASU Online credits can be transferred to a different institution?\n",
      "0,ASU Online,Can I find out how my ASU Online credits apply to a specific program when transferring?\n",
      "1,ASU Online,Is it possible to complete my program on a part-time basis?\n",
      "1,ASU Online,What is the minimum number of credit hours required each semester?\n",
      "1,ASU Online,Are there any financial aid implications for enrolling part-time?\n",
      "1,ASU Online,How can I find out more about maintaining my financial aid while studying part-time?\n"
     ]
    }
   ],
   "source": [
    "!head ground_truth_data.csv"
   ]
  }
 ],
 "metadata": {
  "kernelspec": {
   "display_name": ".venv",
   "language": "python",
   "name": "python3"
  },
  "language_info": {
   "codemirror_mode": {
    "name": "ipython",
    "version": 3
   },
   "file_extension": ".py",
   "mimetype": "text/x-python",
   "name": "python",
   "nbconvert_exporter": "python",
   "pygments_lexer": "ipython3",
   "version": "3.12.3"
  }
 },
 "nbformat": 4,
 "nbformat_minor": 2
}
