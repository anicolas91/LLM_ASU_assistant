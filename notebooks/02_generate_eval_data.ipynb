{
 "cells": [
  {
   "cell_type": "markdown",
   "metadata": {},
   "source": [
    "## Generating Evaluation data\n",
    "We use the original documents as the ground truth and ask an LLM to generate a couple questions, pretending that it is a student, so that we can have a good amount of evaluation data."
   ]
  },
  {
   "cell_type": "code",
   "execution_count": 6,
   "metadata": {},
   "outputs": [],
   "source": [
    "# import libraries\n",
    "import json\n",
    "import os\n",
    "from dotenv import load_dotenv\n",
    "from openai import OpenAI\n",
    "from tqdm.auto import tqdm\n",
    "import pickle\n",
    "import pandas as pd"
   ]
  },
  {
   "cell_type": "code",
   "execution_count": 7,
   "metadata": {},
   "outputs": [],
   "source": [
    "# setup API key\n",
    "load_dotenv('../.envrc') \n",
    "openai_api_key = os.getenv('OPENAI_API_KEY')\n",
    "\n",
    "# start an openAI client\n",
    "client = OpenAI()"
   ]
  },
  {
   "cell_type": "code",
   "execution_count": 8,
   "metadata": {},
   "outputs": [],
   "source": [
    "# load the cleaned up json file\n",
    "with open('../data/cleaned_Data.json', 'rt') as f_in:\n",
    "    docs_raw = json.load(f_in)\n",
    "\n",
    "# add the actual course (only one is ASU online) to the question-level info\n",
    "documents = []\n",
    "\n",
    "for id, doc in enumerate(docs_raw['documents']):\n",
    "    doc['id'] = id #set up a unique id\n",
    "    doc['course'] = docs_raw['course']\n",
    "    documents.append(doc)"
   ]
  },
  {
   "cell_type": "code",
   "execution_count": 9,
   "metadata": {},
   "outputs": [
    {
     "data": {
      "text/plain": [
       "{'text': 'ASU Online credits are no different than credits earned at our campuses and transcripts do not distinguish between online or on-campus courses. When transferring credits, it is always up to the receiving institution to determine transfer eligibility and how transfer credits may apply to a specific program of interest.',\n",
       " 'section': 'ASU email basics',\n",
       " 'question': 'Are all ASU Online credits transferable to other four-year universities?',\n",
       " 'id': 0,\n",
       " 'course': 'ASU Online'}"
      ]
     },
     "execution_count": 9,
     "metadata": {},
     "output_type": "execute_result"
    }
   ],
   "source": [
    "documents[0]"
   ]
  },
  {
   "cell_type": "code",
   "execution_count": 10,
   "metadata": {},
   "outputs": [],
   "source": [
    "prompt_template = \"\"\"\n",
    "You emulate a prospective student interested in ASU online.\n",
    "Formulate 5 questions this student might ask based on a FAQ record. The record\n",
    "should contain the answer to the questions, and the questions should be complete and not too short.\n",
    "If possible, use as few words as possible from the record. \n",
    "\n",
    "The record:\n",
    "\n",
    "section: {section}\n",
    "question: {question}\n",
    "answer: {text}\n",
    "\n",
    "Provide the output in parsable JSON without using code blocks:\n",
    "\n",
    "[\"question1\",\"question2\",\"question3\",\"question4\",\"question5\"]\n",
    "\"\"\".strip()"
   ]
  },
  {
   "cell_type": "code",
   "execution_count": 11,
   "metadata": {},
   "outputs": [
    {
     "name": "stdout",
     "output_type": "stream",
     "text": [
      "You emulate a prospective student interested in ASU online.\n",
      "Formulate 5 questions this student might ask based on a FAQ record. The record\n",
      "should contain the answer to the questions, and the questions should be complete and not too short.\n",
      "If possible, use as few words as possible from the record. \n",
      "\n",
      "The record:\n",
      "\n",
      "section: ASU email basics\n",
      "question: Are all ASU Online credits transferable to other four-year universities?\n",
      "answer: ASU Online credits are no different than credits earned at our campuses and transcripts do not distinguish between online or on-campus courses. When transferring credits, it is always up to the receiving institution to determine transfer eligibility and how transfer credits may apply to a specific program of interest.\n",
      "\n",
      "Provide the output in parsable JSON without using code blocks:\n",
      "\n",
      "[\"question1\",\"question2\",\"question3\",\"question4\",\"question5\"]\n"
     ]
    }
   ],
   "source": [
    "# try an example prompt\n",
    "prompt = prompt_template.format(**documents[0])\n",
    "print(prompt)"
   ]
  },
  {
   "cell_type": "code",
   "execution_count": null,
   "metadata": {},
   "outputs": [],
   "source": []
  },
  {
   "cell_type": "code",
   "execution_count": 12,
   "metadata": {},
   "outputs": [],
   "source": [
    "def generate_questions(doc):\n",
    "    ''' \n",
    "    This function generates 5 questions given the prompt format set up above and the entire documents\n",
    "    '''\n",
    "    prompt = prompt_template.format(**doc)\n",
    "\n",
    "    response = client.chat.completions.create(\n",
    "        model='gpt-4o-mini',\n",
    "        messages=[{\"role\": \"user\", \"content\": prompt}]\n",
    "    )\n",
    "\n",
    "    json_response = response.choices[0].message.content\n",
    "    return json_response"
   ]
  },
  {
   "cell_type": "code",
   "execution_count": 13,
   "metadata": {},
   "outputs": [],
   "source": [
    "results = {}"
   ]
  },
  {
   "cell_type": "code",
   "execution_count": 14,
   "metadata": {},
   "outputs": [
    {
     "data": {
      "application/vnd.jupyter.widget-view+json": {
       "model_id": "9b84e4144aaf4d149f0b978867a46d17",
       "version_major": 2,
       "version_minor": 0
      },
      "text/plain": [
       "  0%|          | 0/53 [00:00<?, ?it/s]"
      ]
     },
     "metadata": {},
     "output_type": "display_data"
    }
   ],
   "source": [
    "for doc in tqdm(documents): \n",
    "    doc_id = doc['id']\n",
    "    if doc_id in results:\n",
    "        continue\n",
    "\n",
    "    questions = generate_questions(doc)\n",
    "    results[doc_id] = questions"
   ]
  },
  {
   "cell_type": "code",
   "execution_count": 15,
   "metadata": {},
   "outputs": [
    {
     "data": {
      "text/plain": [
       "'[\"Can I transfer ASU Online credits to other universities?\",\"How does ASU Online credit transfer work?\",\"Are ASU Online courses treated differently from campus courses?\",\"Will the receiving institution accept my ASU Online credits?\",\"Do ASU transcripts show online or on-campus course distinction?\"]'"
      ]
     },
     "execution_count": 15,
     "metadata": {},
     "output_type": "execute_result"
    }
   ],
   "source": [
    "results[0]"
   ]
  },
  {
   "cell_type": "code",
   "execution_count": 16,
   "metadata": {},
   "outputs": [],
   "source": [
    "# do some slight cleanup because ChatGPT did a bit dirty responses\n",
    "cleaned_parsed_results = {}\n",
    "\n",
    "for doc_id, result in results.items():\n",
    "    questions = ' '.join(result.split())\n",
    "    cleaned_parsed_results[doc_id] = json.loads(questions)"
   ]
  },
  {
   "cell_type": "code",
   "execution_count": 17,
   "metadata": {},
   "outputs": [
    {
     "data": {
      "text/plain": [
       "{0: ['Can I transfer ASU Online credits to other universities?',\n",
       "  'How does ASU Online credit transfer work?',\n",
       "  'Are ASU Online courses treated differently from campus courses?',\n",
       "  'Will the receiving institution accept my ASU Online credits?',\n",
       "  'Do ASU transcripts show online or on-campus course distinction?'],\n",
       " 1: ['Can I pursue my degree on a part-time basis, and are there specific credit limits per semester?',\n",
       "  'What are the implications of enrolling part-time on my financial aid and scholarship eligibility?',\n",
       "  'If I want to study part-time, how might that affect the duration of my degree completion?',\n",
       "  'Are there any loans or grants that require a specific number of credits to receive assistance?',\n",
       "  'Who can I contact for more details about financial aid options related to part-time enrollment?'],\n",
       " 2: ['What materials are necessary to complete the ASU Online admission process?',\n",
       "  'Is an application fee required for ASU Online admission?',\n",
       "  \"Do I need to submit my high school transcripts if I haven't earned an associate degree?\",\n",
       "  'Where should I send my transcripts for ASU Online admission?',\n",
       "  'What is the address for submitting transcripts to ASU Online?'],\n",
       " 3: ['Can I access financial aid for my online courses at ASU?',\n",
       "  'What options are available for financial aid for ASU Online students?',\n",
       "  'How can I connect with a financial aid counselor for ASU Online?',\n",
       "  'Are there specific eligibility requirements for financial aid at ASU Online?',\n",
       "  'Where can I find more information about financial aid for ASU Online classes?'],\n",
       " 4: ['Are ASU Online students allowed to join graduation ceremonies in person?',\n",
       "  'What opportunities are available for attending graduation at ASU?',\n",
       "  'Where can I find details about graduation ceremonies for ASU Online?',\n",
       "  \"Can I participate in the university's graduation events if I study online?\",\n",
       "  'Is there any information about attending the graduation ceremony at ASU for online students?'],\n",
       " 5: ['Is it possible to enroll in ASU Online if I live outside the United States?',\n",
       "  'Can I study online at ASU while residing in a different state?',\n",
       "  'Are there any programs that require physical attendance for labs?',\n",
       "  'What should I consider regarding my degree requirements if I study from another location?',\n",
       "  'Can I fulfill in-person lab requirements at other accredited institutions?'],\n",
       " 6: ['Are the online courses at ASU taught by the same faculty as on-campus classes?',\n",
       "  'Is the quality of ASU Online programs similar to that of traditional on-campus programs?',\n",
       "  'Do ASU Online courses maintain the same level of academic rigor as on-campus courses?',\n",
       "  'Who teaches the courses for ASU Online programs?',\n",
       "  'Can I expect the same content quality in ASU Online as I would in a physical classroom?'],\n",
       " 7: ['Can I obtain a student ID card if I am an online student?',\n",
       "  'What steps do I need to take to get my Sun Card?',\n",
       "  'Is there a fee associated with ordering a student ID card?',\n",
       "  'How long will it take to receive my student ID card after ordering?',\n",
       "  'What is the process for submitting my ID photo for the Sun Card?'],\n",
       " 8: ['Are online students able to engage in research activities?',\n",
       "  'What types of research opportunities are available for online students?',\n",
       "  'Can online students conduct research remotely?',\n",
       "  'Are there in-person research options for online students?',\n",
       "  'Do online students in the Phoenix area have unique research opportunities?'],\n",
       " 9: [\"Is it possible to work toward more than one bachelor's degree simultaneously at ASU Online?\",\n",
       "  'How can I add additional majors after I apply for a degree at ASU Online?',\n",
       "  'Can graduate students also pursue multiple degrees at the same time through ASU Online?',\n",
       "  'What approvals do I need to pursue concurrent graduate degrees at ASU?',\n",
       "  'Will pursuing multiple degrees affect my graduation timeline at ASU Online?'],\n",
       " 10: ['Are the costs of textbooks part of the tuition fees?',\n",
       "  'Do students need to pay separately for textbooks?',\n",
       "  'Is there an additional fee for textbooks at ASU Online?',\n",
       "  'What should I expect regarding textbook expenses?',\n",
       "  'Are textbooks included in my overall tuition payment?'],\n",
       " 11: ['What type of accreditation does ASU Online hold?',\n",
       "  'Who recognizes the Higher Learning Commission?',\n",
       "  'Why is regional accreditation important for universities?',\n",
       "  'Are there specific programs at ASU Online with additional accreditation?',\n",
       "  \"How does ASU's accreditation compare to other institutions?\"],\n",
       " 12: ['What is the process for applying to a graduate program at ASU Online?',\n",
       "  'Are graduate students allowed to transfer credits from other institutions?',\n",
       "  \"What is the maximum number of credits I can transfer to a master's or PhD program?\",\n",
       "  'What grade do I need for my previous credits to be considered for acceptance?',\n",
       "  'How recent must my preadmission credits be to qualify for transfer?'],\n",
       " 13: ['Does an ASU Online degree differ from an Arizona State University diploma?',\n",
       "  'What will my diploma say if I graduate from ASU Online?',\n",
       "  'Are the faculty members for ASU Online courses from ASU?',\n",
       "  'Will my transcript indicate that I studied at ASU Online?',\n",
       "  'Is there a distinction in the degree from ASU Online compared to on-campus degrees?'],\n",
       " 14: ['What is the maximum number of credit hours I can take during the spring and fall semesters at ASU Online?',\n",
       "  'How many classes am I allowed to take in a summer session at ASU Online?',\n",
       "  'Can I enroll in classes across different sessions at ASU Online?',\n",
       "  'What does 18 credit hours translate to in terms of the number of classes I can take?',\n",
       "  'Are there any differences in credit hour limits for programs within the Ira A. Fulton Schools of Engineering?'],\n",
       " 15: ['How can I qualify for financial aid as an undergraduate student at ASU Online?',\n",
       "  'Are there any grants available for online degree-seeking students at ASU?',\n",
       "  'What is the process to apply for federal student aid at ASU?',\n",
       "  'Can graduate students receive grants for their studies at ASU Online?',\n",
       "  'Where can I find scholarships for graduate studies at ASU?'],\n",
       " 16: ['What type of computer is recommended for taking ASU Online courses?',\n",
       "  'Do I need specific software or tools to participate in online classes?',\n",
       "  'Is it necessary to have a webcam for my online courses at ASU?',\n",
       "  'Can I use a tablet or smartphone for my ASU Online classes?',\n",
       "  'Which web browsers are best for accessing ASU Online courses?'],\n",
       " 17: ['Are there options for taking both online and on-campus classes at ASU?',\n",
       "  'What do I need to do if I want to take on-campus courses while enrolled in ASU Online?',\n",
       "  'Can on-campus students participate in online courses, and are there any additional fees?',\n",
       "  'What types of online courses are available to on-campus students?',\n",
       "  'Do hybrid or ASU Sync courses include live sessions for students?'],\n",
       " 18: ['Is it possible to switch from an online program to an on-campus program at ASU?',\n",
       "  'Can students enrolled in on-campus programs transfer to online programs?',\n",
       "  'What factors determine the ability to change my learning format?',\n",
       "  'Will the student support team assist with the transition between program formats?',\n",
       "  'Are there specific academic programs that allow switching between online and on-campus modalities?'],\n",
       " 19: ['What should I expect after I complete my ASU Online application for admission?',\n",
       "  'How will I receive my ASURITE ID and activation code after applying?',\n",
       "  'How can I determine if I am eligible to register for classes?',\n",
       "  'What do I need to do if there are holds on my record preventing me from registering?',\n",
       "  'When can I start registering for classes after being admitted to ASU Online?'],\n",
       " 20: ['What are the methods used by instructors to facilitate learning in an online environment?',\n",
       "  'How does the flexibility of an online degree program work in terms of course requirements?',\n",
       "  'Are there specific scheduled times for attending online classes?',\n",
       "  'How are students monitored for progress throughout their online courses?',\n",
       "  'Can you explain the timing and availability of assignments and tests in online courses?'],\n",
       " 21: ['What factors influence the tuition costs for ASU Online programs?',\n",
       "  'Is there a tool available to help estimate tuition fees for online courses?',\n",
       "  'How can financial aid impact the overall costs of attending ASU Online?',\n",
       "  'Where can I find more information about the standard cost of attendance?',\n",
       "  'Do most ASU Online students receive any form of financial assistance?'],\n",
       " 22: ['Can you explain what Earned Admission is at ASU?',\n",
       "  'How can I gain admission to ASU through Earned Admission?',\n",
       "  'What do I need to do to qualify for Earned Admission?',\n",
       "  'Is Earned Admission based on my previous academic performance?',\n",
       "  'How many credit hours must I complete for Earned Admission?'],\n",
       " 23: ['What types of scholarships can prospective students find at ASU?',\n",
       "  'How can I find more information about the scholarships offered at ASU?',\n",
       "  'Is there a specific page dedicated to scholarships at ASU?',\n",
       "  'Can you tell me if ASU provides financial assistance in the form of scholarships?',\n",
       "  'Are there different scholarship options available for online students at ASU?'],\n",
       " 24: ['What is the importance of my ASU email account for communication?',\n",
       "  'How can I access my ASU email through my My ASU account?',\n",
       "  'What tools do I have access to with my ASU Gmail account?',\n",
       "  'What should I do if I want to hide my ASU email address from the electronic directories?',\n",
       "  \"Where can I find more details regarding ASU's email use policies?\"],\n",
       " 25: ['What are the admission requirements for first-year students at ASU Online?',\n",
       "  'Is having a GED sufficient for applying to ASU Online?',\n",
       "  'Do I need a high school diploma for admission to ASU Online?',\n",
       "  'Can I apply to ASU Online if I have only a GED?',\n",
       "  'What documents are needed for admission to ASU Online programs?'],\n",
       " 26: ['Can I enroll in online courses at ASU without pursuing a full degree?',\n",
       "  'What steps do I need to take to apply as a nondegree student at ASU?',\n",
       "  'Will the courses I take as a nondegree student count for credit?',\n",
       "  'Will the grades from my nondegree courses appear on my official transcript?',\n",
       "  'Can I take classes at ASU for personal development without applying for a degree?'],\n",
       " 27: ['What visa classification is required for international applicants to ASU Online?',\n",
       "  'Which visa type should I choose if I am an international student applying to ASU Online?',\n",
       "  'Are online students eligible for student visas when applying to ASU?',\n",
       "  'Can a student with an F1 visa enroll in ASU Online programs?',\n",
       "  'What should international students do if they live outside the U.S. regarding their visa type?'],\n",
       " 28: ['Is the New American University Scholarship applicable to online students?',\n",
       "  'Can I use campus scholarships for online degree programs?',\n",
       "  'Are there any scholarships available specifically for online students?',\n",
       "  'What types of financial aid can I receive as an online student?',\n",
       "  'How can I find out more about online scholarship opportunities at ASU?'],\n",
       " 29: [\"Am I eligible to enroll in a bachelor's program at ASU Online if I have already completed one?\",\n",
       "  \"Is it possible to pursue a second bachelor's degree at ASU Online?\",\n",
       "  \"Will I be classified as a transfer student if I apply with a previous bachelor's degree?\",\n",
       "  \"Can I receive transfer credit for courses taken during my first bachelor's degree?\",\n",
       "  \"What is the admission process for someone with an existing bachelor's degree?\"],\n",
       " 30: ['Is there a specific timeline for applying to ASU Online?',\n",
       "  'Where should I submit my application for ASU Online?',\n",
       "  'Are there deadlines that I should be aware of for the application process?',\n",
       "  'Can I submit my application at any time of the year?',\n",
       "  'What should I consider before applying to ASU Online?'],\n",
       " 31: ['Are online students allowed to live in dormitories or participate in on-campus housing?',\n",
       "  'What facilities can online students access at Arizona State University?',\n",
       "  'Can online students become members of ASU clubs and organizations?',\n",
       "  'Are online students permitted to attend on-campus events and activities?',\n",
       "  'How do online students obtain tickets for athletic events at ASU?'],\n",
       " 32: ['When can I expect to receive my billing statement for the courses I registered for?',\n",
       "  'Is there a way to view my billing statement online?',\n",
       "  'What are the payment options available for my tuition?',\n",
       "  'How can I access additional information regarding billing?',\n",
       "  'What platform should I use to manage my tuition payments?'],\n",
       " 33: ['Are there any options to waive or reduce the $70 application fee?',\n",
       "  'How can I find out more about potential fee waivers for my application?',\n",
       "  'Is the application fee waiver only available under certain circumstances?',\n",
       "  'Who should I contact for details regarding fee waivers?',\n",
       "  'Can I expect a standard application fee waiver when applying?'],\n",
       " 34: ['What steps must I complete before I can enroll in online classes at Arizona State University?',\n",
       "  'How long does it take to receive an admission decision after submitting an application?',\n",
       "  'What factors influence the time taken to process applications at ASU Online?',\n",
       "  'What is the average duration for receiving transcripts from other institutions?',\n",
       "  'Can I start classes immediately after applying to ASU Online?'],\n",
       " 35: ['If I was accepted to a campus program, do I need to reapply for ASU Online?',\n",
       "  \"What happens to my application if I was admitted but didn't attend ASU?\",\n",
       "  'Is a new application required for transitioning to ASU Online from an on-campus program?',\n",
       "  'What should I do if my ASU application expired due to inactivity?',\n",
       "  \"Do I need to resubmit my application if I didn't complete the process for the on-campus program?\"],\n",
       " 36: ['How many times a year does ASU Online offer classes?',\n",
       "  'What are the specific start dates for classes at ASU Online?',\n",
       "  'Are there different start times for spring, fall, and summer semesters?',\n",
       "  'How often does ASU Online have new classes?',\n",
       "  'Is there a way to check the academic calendar for ASU Online?'],\n",
       " 37: ['What options do I have if my GPA falls short of my desired major for ASU Online?',\n",
       "  \"Can I gain admission to ASU Online if I don't meet the GPA criteria for my chosen degree?\",\n",
       "  \"What steps should I take if I don't meet the general admission requirements for ASU?\",\n",
       "  'Is there a specific program that allows students to improve their GPA for admission to ASU Online?',\n",
       "  'How does the Earned Admission program work for prospective ASU Online students?'],\n",
       " 38: ['How can I estimate the cost of my degree at ASU Online before applying?',\n",
       "  'Is there a way to connect with a financial aid advisor prior to my enrollment?',\n",
       "  'What tool should I use to calculate potential tuition costs at ASU?',\n",
       "  'Can I contact a financial aid counselor before I apply?',\n",
       "  'Where can I find information on tuition estimates for ASU Online?'],\n",
       " 39: ['What is the maximum number of transfer credits accepted for undergraduate degrees at ASU?',\n",
       "  'Are there any limitations on transferring credits for special programs at ASU?',\n",
       "  'How many graduate-level credit hours can be accepted for graduate programs at ASU?',\n",
       "  'Can I verify if my previous courses can transfer to ASU Online?',\n",
       "  'Who can I consult for a credit pre-evaluation when considering transfer to ASU Online?'],\n",
       " 40: ['What types of support services are available for students with disabilities at ASU Online?',\n",
       "  'How can I register for disability support services as an online student?',\n",
       "  'Are there specific accommodations provided for students with disabilities?',\n",
       "  'Does ASU offer transportation services for students with physical disabilities?',\n",
       "  'What efforts are made to promote awareness and accessibility for online students?'],\n",
       " 41: ['Does ASU Online provide GMAT waivers for graduate programs?',\n",
       "  'Are there any graduate degree programs at ASU Online that do not require a GRE or GMAT?',\n",
       "  'How are GMAT waivers determined for ASU Online programs?',\n",
       "  'Who should I contact to get more information about GMAT waivers?',\n",
       "  'Is it possible to receive assistance regarding GMAT waivers from my success coach?'],\n",
       " 42: ['Do credits earned at ASU have an expiration date?',\n",
       "  'What happens to transfer credits after a certain period?',\n",
       "  'Are there specific courses that I may need to retake?',\n",
       "  'How does course relevance affect my previous credits?',\n",
       "  'Is there a time limit for using my ASU credits?'],\n",
       " 43: [\"What options do I have if I don't meet the admission requirements for an undergraduate program at ASU?\",\n",
       "  'How can I determine if the Earned Admission track is the right choice for me?',\n",
       "  \"What should I do if I'm applying for a graduate program and don't meet the admission standards?\",\n",
       "  \"Where can I find information on improving my chances of admission if I'm not accepted?\",\n",
       "  'Who can I contact if I need guidance after not being offered admission to my desired program?'],\n",
       " 44: ['What are the rankings of ASU Online programs for undergraduate and graduate studies?',\n",
       "  \"How does ASU Online's faculty compare to on-campus instructors?\",\n",
       "  'What support services does ASU Online offer to its students?',\n",
       "  \"Where can I find more information about ASU Online's accolades and rankings?\",\n",
       "  'What do current students and alumni say about their experience with ASU Online?'],\n",
       " 45: ['What steps should I follow to search for and enroll in classes at ASU Online?',\n",
       "  'How do I access the Class Search feature in My ASU?',\n",
       "  'What information do I need to log in to My ASU for class enrollment?',\n",
       "  'Once I find a class, what action do I need to take to add it to my schedule?',\n",
       "  'Can you guide me through the enrollment process after I select a class?'],\n",
       " 46: ['Can I apply to a graduate program at ASU Online before finishing my undergraduate degree?',\n",
       "  \"What GPA information is required when applying to a graduate program while still completing my bachelor's?\",\n",
       "  'Are unofficial transcripts acceptable when applying for graduate programs at ASU Online?',\n",
       "  'How far in advance do I need to apply for a graduate program at ASU Online?',\n",
       "  'What should I do if I want to start a graduate program right after my undergraduate studies?'],\n",
       " 47: ['Does ASU offer live teaching sessions for online courses?',\n",
       "  'How are the online courses structured in terms of timing?',\n",
       "  'Are there any scheduled group activities in ASU online classes?',\n",
       "  'How can I find out about specific course requirements before classes begin?',\n",
       "  'What should I look for in the syllabus regarding class attendance?'],\n",
       " 48: ['Can I earn a degree using credits from courses taken as a nondegree student?',\n",
       "  'What is the credit hour limit for nondegree undergraduate students transitioning to degree programs?',\n",
       "  'How many credit hours can graduate nondegree students apply towards a degree?',\n",
       "  'Are there restrictions on transferring nondegree credits after admission to a degree program?',\n",
       "  'How does nondegree status affect my ability to earn a degree later?'],\n",
       " 49: ['What factors influence the time it takes to complete an online degree at ASU?',\n",
       "  'How many courses should I take in a semester to finish my degree in four years?',\n",
       "  'Is it possible to shorten the time needed to earn my degree by taking more credits?',\n",
       "  'Are there options for transferring credits that can help me graduate faster?',\n",
       "  'Who can I speak to for a personalized estimate on my degree completion timeline?'],\n",
       " 50: ['What are the specific transfer requirements for attending ASU?',\n",
       "  'Is it difficult to transfer credits from other colleges to ASU?',\n",
       "  'What should I know about the admission process for transfer students?',\n",
       "  'Where can I find more details on transfer admission requirements?',\n",
       "  'Are there any particular programs at ASU that have different transfer criteria?'],\n",
       " 51: ['What resources are available to help evaluate my transfer credits to ASU Online?',\n",
       "  'How can I find out which of my credits may be applicable to a degree at ASU Online?',\n",
       "  'Are there specific advisors I should contact for information about transferring credits?',\n",
       "  'What process should I follow to receive a pre-evaluation of my transfer credits?',\n",
       "  \"Can I get assistance in understanding how my credits align with ASU's degree programs?\"],\n",
       " 52: ['What steps should I follow to locate my academic advisor at ASU?',\n",
       "  'Where can I find the contact information for my advisor after logging into My ASU?',\n",
       "  'Is it necessary to log in with my ASURITE ID and password to access advisor details?',\n",
       "  \"What information will I see about my advisor once I click on the 'Advising' section?\",\n",
       "  'Can I identify my degree program when I log into My ASU before finding my advisor?']}"
      ]
     },
     "execution_count": 17,
     "metadata": {},
     "output_type": "execute_result"
    }
   ],
   "source": [
    "cleaned_parsed_results"
   ]
  },
  {
   "cell_type": "code",
   "execution_count": 18,
   "metadata": {},
   "outputs": [],
   "source": [
    "# convert to final results\n",
    "doc_index = {d['id']: d for d in documents}\n",
    "\n",
    "final_results = []\n",
    "\n",
    "for doc_id, questions in cleaned_parsed_results.items():\n",
    "    course = doc_index[doc_id]['course']\n",
    "    for q in questions:\n",
    "        final_results.append((doc_id,course,q))\n"
   ]
  },
  {
   "cell_type": "code",
   "execution_count": 19,
   "metadata": {},
   "outputs": [
    {
     "data": {
      "text/plain": [
       "(4,\n",
       " 'ASU Online',\n",
       " 'Where can I find details about graduation ceremonies for ASU Online?')"
      ]
     },
     "execution_count": 19,
     "metadata": {},
     "output_type": "execute_result"
    }
   ],
   "source": [
    "final_results[22]"
   ]
  },
  {
   "cell_type": "code",
   "execution_count": 20,
   "metadata": {},
   "outputs": [],
   "source": [
    "# convert to pandas df\n",
    "df = pd.DataFrame(final_results, columns=['id', 'course', 'question'])\n"
   ]
  },
  {
   "cell_type": "code",
   "execution_count": 21,
   "metadata": {},
   "outputs": [
    {
     "data": {
      "text/html": [
       "<div>\n",
       "<style scoped>\n",
       "    .dataframe tbody tr th:only-of-type {\n",
       "        vertical-align: middle;\n",
       "    }\n",
       "\n",
       "    .dataframe tbody tr th {\n",
       "        vertical-align: top;\n",
       "    }\n",
       "\n",
       "    .dataframe thead th {\n",
       "        text-align: right;\n",
       "    }\n",
       "</style>\n",
       "<table border=\"1\" class=\"dataframe\">\n",
       "  <thead>\n",
       "    <tr style=\"text-align: right;\">\n",
       "      <th></th>\n",
       "      <th>id</th>\n",
       "      <th>course</th>\n",
       "      <th>question</th>\n",
       "    </tr>\n",
       "  </thead>\n",
       "  <tbody>\n",
       "    <tr>\n",
       "      <th>0</th>\n",
       "      <td>0</td>\n",
       "      <td>ASU Online</td>\n",
       "      <td>Can I transfer ASU Online credits to other uni...</td>\n",
       "    </tr>\n",
       "    <tr>\n",
       "      <th>1</th>\n",
       "      <td>0</td>\n",
       "      <td>ASU Online</td>\n",
       "      <td>How does ASU Online credit transfer work?</td>\n",
       "    </tr>\n",
       "    <tr>\n",
       "      <th>2</th>\n",
       "      <td>0</td>\n",
       "      <td>ASU Online</td>\n",
       "      <td>Are ASU Online courses treated differently fro...</td>\n",
       "    </tr>\n",
       "    <tr>\n",
       "      <th>3</th>\n",
       "      <td>0</td>\n",
       "      <td>ASU Online</td>\n",
       "      <td>Will the receiving institution accept my ASU O...</td>\n",
       "    </tr>\n",
       "    <tr>\n",
       "      <th>4</th>\n",
       "      <td>0</td>\n",
       "      <td>ASU Online</td>\n",
       "      <td>Do ASU transcripts show online or on-campus co...</td>\n",
       "    </tr>\n",
       "    <tr>\n",
       "      <th>...</th>\n",
       "      <td>...</td>\n",
       "      <td>...</td>\n",
       "      <td>...</td>\n",
       "    </tr>\n",
       "    <tr>\n",
       "      <th>260</th>\n",
       "      <td>52</td>\n",
       "      <td>ASU Online</td>\n",
       "      <td>What steps should I follow to locate my academ...</td>\n",
       "    </tr>\n",
       "    <tr>\n",
       "      <th>261</th>\n",
       "      <td>52</td>\n",
       "      <td>ASU Online</td>\n",
       "      <td>Where can I find the contact information for m...</td>\n",
       "    </tr>\n",
       "    <tr>\n",
       "      <th>262</th>\n",
       "      <td>52</td>\n",
       "      <td>ASU Online</td>\n",
       "      <td>Is it necessary to log in with my ASURITE ID a...</td>\n",
       "    </tr>\n",
       "    <tr>\n",
       "      <th>263</th>\n",
       "      <td>52</td>\n",
       "      <td>ASU Online</td>\n",
       "      <td>What information will I see about my advisor o...</td>\n",
       "    </tr>\n",
       "    <tr>\n",
       "      <th>264</th>\n",
       "      <td>52</td>\n",
       "      <td>ASU Online</td>\n",
       "      <td>Can I identify my degree program when I log in...</td>\n",
       "    </tr>\n",
       "  </tbody>\n",
       "</table>\n",
       "<p>265 rows × 3 columns</p>\n",
       "</div>"
      ],
      "text/plain": [
       "     id      course                                           question\n",
       "0     0  ASU Online  Can I transfer ASU Online credits to other uni...\n",
       "1     0  ASU Online          How does ASU Online credit transfer work?\n",
       "2     0  ASU Online  Are ASU Online courses treated differently fro...\n",
       "3     0  ASU Online  Will the receiving institution accept my ASU O...\n",
       "4     0  ASU Online  Do ASU transcripts show online or on-campus co...\n",
       "..   ..         ...                                                ...\n",
       "260  52  ASU Online  What steps should I follow to locate my academ...\n",
       "261  52  ASU Online  Where can I find the contact information for m...\n",
       "262  52  ASU Online  Is it necessary to log in with my ASURITE ID a...\n",
       "263  52  ASU Online  What information will I see about my advisor o...\n",
       "264  52  ASU Online  Can I identify my degree program when I log in...\n",
       "\n",
       "[265 rows x 3 columns]"
      ]
     },
     "execution_count": 21,
     "metadata": {},
     "output_type": "execute_result"
    }
   ],
   "source": [
    "df"
   ]
  },
  {
   "cell_type": "code",
   "execution_count": 22,
   "metadata": {},
   "outputs": [],
   "source": [
    "# save the df as ground truth csv\n",
    "df.to_csv('../data/ground_truth_data.csv', index=False)"
   ]
  },
  {
   "cell_type": "code",
   "execution_count": 25,
   "metadata": {},
   "outputs": [
    {
     "name": "stdout",
     "output_type": "stream",
     "text": [
      "51,ASU Online,What resources are available to help evaluate my transfer credits to ASU Online?\n",
      "51,ASU Online,How can I find out which of my credits may be applicable to a degree at ASU Online?\n",
      "51,ASU Online,Are there specific advisors I should contact for information about transferring credits?\n",
      "51,ASU Online,What process should I follow to receive a pre-evaluation of my transfer credits?\n",
      "51,ASU Online,Can I get assistance in understanding how my credits align with ASU's degree programs?\n",
      "52,ASU Online,What steps should I follow to locate my academic advisor at ASU?\n",
      "52,ASU Online,Where can I find the contact information for my advisor after logging into My ASU?\n",
      "52,ASU Online,Is it necessary to log in with my ASURITE ID and password to access advisor details?\n",
      "52,ASU Online,What information will I see about my advisor once I click on the 'Advising' section?\n",
      "52,ASU Online,Can I identify my degree program when I log into My ASU before finding my advisor?\n"
     ]
    }
   ],
   "source": [
    "!tail ../data/ground_truth_data.csv"
   ]
  },
  {
   "cell_type": "code",
   "execution_count": null,
   "metadata": {},
   "outputs": [],
   "source": []
  }
 ],
 "metadata": {
  "kernelspec": {
   "display_name": ".venv",
   "language": "python",
   "name": "python3"
  },
  "language_info": {
   "codemirror_mode": {
    "name": "ipython",
    "version": 3
   },
   "file_extension": ".py",
   "mimetype": "text/x-python",
   "name": "python",
   "nbconvert_exporter": "python",
   "pygments_lexer": "ipython3",
   "version": "3.12.3"
  }
 },
 "nbformat": 4,
 "nbformat_minor": 2
}
